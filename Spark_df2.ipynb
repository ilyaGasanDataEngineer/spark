{
 "cells": [
  {
   "cell_type": "code",
   "execution_count": 6,
   "metadata": {},
   "outputs": [
    {
     "name": "stderr",
     "output_type": "stream",
     "text": [
      "/home/ilyagasan/anaconda3/lib/python3.7/site-packages/pyspark/context.py:317: FutureWarning: Python 3.7 support is deprecated in Spark 3.4.\n",
      "  warnings.warn(\"Python 3.7 support is deprecated in Spark 3.4.\", FutureWarning)\n"
     ]
    }
   ],
   "source": [
    "import pyspark\n",
    "\n",
    "from pyspark.sql import SparkSession\n",
    "\n",
    "spark = SparkSession.\\\n",
    "        builder.\\\n",
    "        appName('less_pysqprk_DF').\\\n",
    "        master('local').\\\n",
    "        config('spark.executor.memory', \"512m\").\\\n",
    "        config(\"spark.hadoop.fs.defaultFS\", \"hdfs://localhost:9000\").\\\n",
    "        config(\"spark.hadoop.fs.default.name\", \"hdfs://localhost:9000\").\\\n",
    "        getOrCreate()"
   ]
  },
  {
   "cell_type": "code",
   "execution_count": 4,
   "metadata": {},
   "outputs": [],
   "source": [
    "#spark.stop()"
   ]
  },
  {
   "cell_type": "code",
   "execution_count": 7,
   "metadata": {},
   "outputs": [
    {
     "data": {
      "text/html": [
       "\n",
       "            <div>\n",
       "                <p><b>SparkSession - in-memory</b></p>\n",
       "                \n",
       "        <div>\n",
       "            <p><b>SparkContext</b></p>\n",
       "\n",
       "            <p><a href=\"http://192.168.0.168:4041\">Spark UI</a></p>\n",
       "\n",
       "            <dl>\n",
       "              <dt>Version</dt>\n",
       "                <dd><code>v3.4.3</code></dd>\n",
       "              <dt>Master</dt>\n",
       "                <dd><code>local</code></dd>\n",
       "              <dt>AppName</dt>\n",
       "                <dd><code>less_pysqprk_DF</code></dd>\n",
       "            </dl>\n",
       "        </div>\n",
       "        \n",
       "            </div>\n",
       "        "
      ],
      "text/plain": [
       "<pyspark.sql.session.SparkSession at 0x78c433f74710>"
      ]
     },
     "execution_count": 7,
     "metadata": {},
     "output_type": "execute_result"
    }
   ],
   "source": [
    "spark"
   ]
  },
  {
   "cell_type": "code",
   "execution_count": 18,
   "metadata": {},
   "outputs": [],
   "source": [
    "df = spark.read.csv('hdfs://localhost:9000/data/Sales_April_2019.csv', header=True, inferSchema=True)"
   ]
  },
  {
   "cell_type": "code",
   "execution_count": 19,
   "metadata": {},
   "outputs": [
    {
     "name": "stdout",
     "output_type": "stream",
     "text": [
      "+--------+--------------------+----------------+----------+--------------+--------------------+\n",
      "|Order ID|             Product|Quantity Ordered|Price Each|    Order Date|    Purchase Address|\n",
      "+--------+--------------------+----------------+----------+--------------+--------------------+\n",
      "|  176558|USB-C Charging Cable|               2|     11.95|04/19/19 08:46|917 1st St, Dalla...|\n",
      "|    null|                null|            null|      null|          null|                null|\n",
      "|  176559|Bose SoundSport H...|               1|     99.99|04/07/19 22:30|682 Chestnut St, ...|\n",
      "|  176560|        Google Phone|               1|     600.0|04/12/19 14:38|669 Spruce St, Lo...|\n",
      "|  176560|    Wired Headphones|               1|     11.99|04/12/19 14:38|669 Spruce St, Lo...|\n",
      "|  176561|    Wired Headphones|               1|     11.99|04/30/19 09:27|333 8th St, Los A...|\n",
      "|  176562|USB-C Charging Cable|               1|     11.95|04/29/19 13:03|381 Wilson St, Sa...|\n",
      "|  176563|Bose SoundSport H...|               1|     99.99|04/02/19 07:46|668 Center St, Se...|\n",
      "|  176564|USB-C Charging Cable|               1|     11.95|04/12/19 10:58|790 Ridge St, Atl...|\n",
      "|  176565|  Macbook Pro Laptop|               1|    1700.0|04/24/19 10:38|915 Willow St, Sa...|\n",
      "|  176566|    Wired Headphones|               1|     11.99|04/08/19 14:05|83 7th St, Boston...|\n",
      "|  176567|        Google Phone|               1|     600.0|04/18/19 17:18|444 7th St, Los A...|\n",
      "|  176568|Lightning Chargin...|               1|     14.95|04/15/19 12:18|438 Elm St, Seatt...|\n",
      "|  176569|27in 4K Gaming Mo...|               1|    389.99|04/16/19 19:23|657 Hill St, Dall...|\n",
      "|  176570|AA Batteries (4-p...|               1|      3.84|04/22/19 15:09|186 12th St, Dall...|\n",
      "|  176571|Lightning Chargin...|               1|     14.95|04/19/19 14:29|253 Johnson St, A...|\n",
      "|  176572|Apple Airpods Hea...|               1|     150.0|04/04/19 20:30|149 Dogwood St, N...|\n",
      "|  176573|USB-C Charging Cable|               1|     11.95|04/27/19 18:41|214 Chestnut St, ...|\n",
      "|  176574|        Google Phone|               1|     600.0|04/03/19 19:42|20 Hill St, Los A...|\n",
      "|  176574|USB-C Charging Cable|               1|     11.95|04/03/19 19:42|20 Hill St, Los A...|\n",
      "+--------+--------------------+----------------+----------+--------------+--------------------+\n",
      "only showing top 20 rows\n",
      "\n"
     ]
    }
   ],
   "source": [
    "df.show()"
   ]
  },
  {
   "cell_type": "code",
   "execution_count": 24,
   "metadata": {},
   "outputs": [
    {
     "data": {
      "text/plain": [
       "StructType([StructField('Order ID', IntegerType(), True), StructField('Product', StringType(), True), StructField('Quantity Ordered', IntegerType(), True), StructField('Price Each', DoubleType(), True), StructField('Order Date', StringType(), True), StructField('Purchase Address', StringType(), True)])"
      ]
     },
     "execution_count": 24,
     "metadata": {},
     "output_type": "execute_result"
    }
   ],
   "source": [
    "df.schema"
   ]
  },
  {
   "cell_type": "code",
   "execution_count": 26,
   "metadata": {},
   "outputs": [
    {
     "data": {
      "text/plain": [
       "18383"
      ]
     },
     "execution_count": 26,
     "metadata": {},
     "output_type": "execute_result"
    }
   ],
   "source": [
    "df.count()"
   ]
  },
  {
   "cell_type": "code",
   "execution_count": 27,
   "metadata": {},
   "outputs": [],
   "source": [
    "df = df.drop_duplicates()"
   ]
  },
  {
   "cell_type": "code",
   "execution_count": 28,
   "metadata": {},
   "outputs": [
    {
     "data": {
      "text/plain": [
       "18269"
      ]
     },
     "execution_count": 28,
     "metadata": {},
     "output_type": "execute_result"
    }
   ],
   "source": [
    "df.count()"
   ]
  },
  {
   "cell_type": "code",
   "execution_count": 30,
   "metadata": {},
   "outputs": [],
   "source": [
    "from pyspark.sql.functions import lit\n",
    "\n",
    "df_none = df.select([lit(None) for i in df.columns])"
   ]
  },
  {
   "cell_type": "code",
   "execution_count": 31,
   "metadata": {},
   "outputs": [
    {
     "name": "stdout",
     "output_type": "stream",
     "text": [
      "+----+----+----+----+----+----+\n",
      "|NULL|NULL|NULL|NULL|NULL|NULL|\n",
      "+----+----+----+----+----+----+\n",
      "|null|null|null|null|null|null|\n",
      "|null|null|null|null|null|null|\n",
      "|null|null|null|null|null|null|\n",
      "|null|null|null|null|null|null|\n",
      "|null|null|null|null|null|null|\n",
      "|null|null|null|null|null|null|\n",
      "|null|null|null|null|null|null|\n",
      "|null|null|null|null|null|null|\n",
      "|null|null|null|null|null|null|\n",
      "|null|null|null|null|null|null|\n",
      "|null|null|null|null|null|null|\n",
      "|null|null|null|null|null|null|\n",
      "|null|null|null|null|null|null|\n",
      "|null|null|null|null|null|null|\n",
      "|null|null|null|null|null|null|\n",
      "|null|null|null|null|null|null|\n",
      "|null|null|null|null|null|null|\n",
      "|null|null|null|null|null|null|\n",
      "|null|null|null|null|null|null|\n",
      "|null|null|null|null|null|null|\n",
      "+----+----+----+----+----+----+\n",
      "only showing top 20 rows\n",
      "\n"
     ]
    }
   ],
   "source": [
    "df_none.show()"
   ]
  },
  {
   "cell_type": "code",
   "execution_count": 32,
   "metadata": {},
   "outputs": [],
   "source": [
    "df = df.union(df_none)"
   ]
  },
  {
   "cell_type": "code",
   "execution_count": 33,
   "metadata": {},
   "outputs": [
    {
     "data": {
      "text/plain": [
       "36538"
      ]
     },
     "execution_count": 33,
     "metadata": {},
     "output_type": "execute_result"
    }
   ],
   "source": [
    "df.count()"
   ]
  },
  {
   "cell_type": "code",
   "execution_count": 34,
   "metadata": {},
   "outputs": [],
   "source": [
    "df = df.na.drop()"
   ]
  },
  {
   "cell_type": "code",
   "execution_count": 35,
   "metadata": {},
   "outputs": [
    {
     "data": {
      "text/plain": [
       "18267"
      ]
     },
     "execution_count": 35,
     "metadata": {},
     "output_type": "execute_result"
    }
   ],
   "source": [
    "df.count()"
   ]
  },
  {
   "cell_type": "code",
   "execution_count": 38,
   "metadata": {},
   "outputs": [],
   "source": [
    "from pyspark.sql.functions import col, ceil"
   ]
  },
  {
   "cell_type": "code",
   "execution_count": 43,
   "metadata": {},
   "outputs": [],
   "source": [
    "df = df.withColumn('unit_price_profit', col(\"Quantity Ordered\")* col(\"Price Each\"))"
   ]
  },
  {
   "cell_type": "code",
   "execution_count": 44,
   "metadata": {},
   "outputs": [
    {
     "name": "stdout",
     "output_type": "stream",
     "text": [
      "+--------+--------------------+----------------+----------+--------------+--------------------+-----------------+\n",
      "|Order ID|             Product|Quantity Ordered|Price Each|    Order Date|    Purchase Address|unit_price_profit|\n",
      "+--------+--------------------+----------------+----------+--------------+--------------------+-----------------+\n",
      "|  176675|AAA Batteries (4-...|               1|      2.99|04/02/19 09:02|933 Meadow St, Se...|             2.99|\n",
      "|  176725|AA Batteries (4-p...|               2|      3.84|04/15/19 14:33|630 14th St, San ...|             7.68|\n",
      "|  176925|Lightning Chargin...|               1|     14.95|04/18/19 15:31|920 Wilson St, Ne...|            14.95|\n",
      "|  176991|Bose SoundSport H...|               1|     99.99|04/15/19 01:49|338 2nd St, San F...|            99.99|\n",
      "|  177141|AAA Batteries (4-...|               1|      2.99|04/20/19 16:12|559 4th St, San F...|             2.99|\n",
      "|  177177|AA Batteries (4-p...|               1|      3.84|04/08/19 12:10|182 12th St, San ...|             3.84|\n",
      "|  177221|34in Ultrawide Mo...|               1|    379.99|04/12/19 20:33|5 Hickory St, San...|           379.99|\n",
      "|  177239|              iPhone|               1|     700.0|04/13/19 12:17|336 Maple St, San...|            700.0|\n",
      "|  177473|  Macbook Pro Laptop|               1|    1700.0|04/02/19 18:24|844 12th St, New ...|           1700.0|\n",
      "|  177727|AA Batteries (4-p...|               1|      3.84|04/03/19 20:33|239 Elm St, San F...|             3.84|\n",
      "|  178057|AA Batteries (4-p...|               1|      3.84|04/18/19 16:22|982 Hickory St, A...|             3.84|\n",
      "|  178140|Bose SoundSport H...|               1|     99.99|04/09/19 16:30|930 West St, New ...|            99.99|\n",
      "|  178453|AA Batteries (4-p...|               1|      3.84|04/08/19 15:25|519 Cherry St, Se...|             3.84|\n",
      "|  178912|    Wired Headphones|               1|     11.99|04/03/19 23:29|913 South St, Sea...|            11.99|\n",
      "|  179339|AAA Batteries (4-...|               1|      2.99|04/16/19 16:04|841 South St, San...|             2.99|\n",
      "|  179516|AAA Batteries (4-...|               1|      2.99|04/11/19 07:35|997 7th St, San F...|             2.99|\n",
      "|  179923|34in Ultrawide Mo...|               1|    379.99|04/03/19 19:16|718 Highland St, ...|           379.99|\n",
      "|  180019|Bose SoundSport H...|               1|     99.99|04/30/19 14:26|973 West St, Seat...|            99.99|\n",
      "|  180142|AAA Batteries (4-...|               1|      2.99|04/21/19 19:50|913 8th St, Seatt...|             2.99|\n",
      "|  180440|    Wired Headphones|               1|     11.99|04/06/19 10:29|647 1st St, New Y...|            11.99|\n",
      "+--------+--------------------+----------------+----------+--------------+--------------------+-----------------+\n",
      "only showing top 20 rows\n",
      "\n"
     ]
    }
   ],
   "source": [
    "df.show()"
   ]
  },
  {
   "cell_type": "code",
   "execution_count": 47,
   "metadata": {},
   "outputs": [],
   "source": [
    "df_sum = df.groupby('Quantity Ordered' ).sum('unit_price_profit')"
   ]
  },
  {
   "cell_type": "code",
   "execution_count": 48,
   "metadata": {},
   "outputs": [
    {
     "name": "stdout",
     "output_type": "stream",
     "text": [
      "+----------------+----------------------+\n",
      "|Quantity Ordered|sum(unit_price_profit)|\n",
      "+----------------+----------------------+\n",
      "|               1|     3350854.210000706|\n",
      "|               6|    179.33999999999997|\n",
      "|               3|     4064.429999999983|\n",
      "|               5|    392.79999999999984|\n",
      "|               4|    1045.0000000000007|\n",
      "|               7|                 20.93|\n",
      "|               2|     38050.14000000027|\n",
      "+----------------+----------------------+\n",
      "\n"
     ]
    }
   ],
   "source": [
    "df_sum.show()"
   ]
  },
  {
   "cell_type": "code",
   "execution_count": 49,
   "metadata": {},
   "outputs": [],
   "source": [
    "df_avg = df.groupby('Quantity Ordered').avg('unit_price_profit')"
   ]
  },
  {
   "cell_type": "code",
   "execution_count": 50,
   "metadata": {},
   "outputs": [
    {
     "name": "stdout",
     "output_type": "stream",
     "text": [
      "+----------------+----------------------+\n",
      "|Quantity Ordered|avg(unit_price_profit)|\n",
      "+----------------+----------------------+\n",
      "|               1|    202.63994980652552|\n",
      "|               6|    25.619999999999997|\n",
      "|               3|    13.593411371237401|\n",
      "|               5|     16.36666666666666|\n",
      "|               4|    14.513888888888898|\n",
      "|               7|                 20.93|\n",
      "|               2|    28.652213855421888|\n",
      "+----------------+----------------------+\n",
      "\n"
     ]
    }
   ],
   "source": [
    "df_avg.show()"
   ]
  },
  {
   "cell_type": "code",
   "execution_count": 51,
   "metadata": {},
   "outputs": [],
   "source": [
    "join_df = df_sum.join(df_avg, 'Quantity Ordered', 'left')"
   ]
  },
  {
   "cell_type": "code",
   "execution_count": 52,
   "metadata": {},
   "outputs": [
    {
     "name": "stdout",
     "output_type": "stream",
     "text": [
      "+----------------+----------------------+----------------------+\n",
      "|Quantity Ordered|sum(unit_price_profit)|avg(unit_price_profit)|\n",
      "+----------------+----------------------+----------------------+\n",
      "|               1|     3350854.210000706|    202.63994980652552|\n",
      "|               6|    179.33999999999997|    25.619999999999997|\n",
      "|               3|     4064.429999999983|    13.593411371237401|\n",
      "|               5|    392.79999999999984|     16.36666666666666|\n",
      "|               4|    1045.0000000000007|    14.513888888888898|\n",
      "|               7|                 20.93|                 20.93|\n",
      "|               2|     38050.14000000027|    28.652213855421888|\n",
      "+----------------+----------------------+----------------------+\n",
      "\n"
     ]
    }
   ],
   "source": [
    "join_df.show()"
   ]
  },
  {
   "cell_type": "code",
   "execution_count": 60,
   "metadata": {},
   "outputs": [
    {
     "data": {
      "text/plain": [
       "2"
      ]
     },
     "execution_count": 60,
     "metadata": {},
     "output_type": "execute_result"
    }
   ],
   "source": [
    "df.rdd.getNumPartitions()"
   ]
  },
  {
   "cell_type": "code",
   "execution_count": 55,
   "metadata": {},
   "outputs": [
    {
     "data": {
      "text/plain": [
       "1"
      ]
     },
     "execution_count": 55,
     "metadata": {},
     "output_type": "execute_result"
    }
   ],
   "source": [
    "join_df.rdd.getNumPartitions()"
   ]
  },
  {
   "cell_type": "code",
   "execution_count": 59,
   "metadata": {},
   "outputs": [],
   "source": [
    "df = df.coalesce(2)"
   ]
  },
  {
   "cell_type": "code",
   "execution_count": 63,
   "metadata": {},
   "outputs": [],
   "source": [
    "df.write.format('csv').partitionBy('Product').option('header', True).save('hdfs://localhost:9000 ')"
   ]
  },
  {
   "cell_type": "code",
   "execution_count": 1,
   "metadata": {},
   "outputs": [
    {
     "name": "stdout",
     "output_type": "stream",
     "text": [
      "openjdk version \"1.8.0_422\"\n",
      "OpenJDK Runtime Environment (build 1.8.0_422-8u422-b05-1~24.04-b05)\n",
      "OpenJDK 64-Bit Server VM (build 25.422-b05, mixed mode)\n"
     ]
    }
   ],
   "source": [
    "import os\n",
    "\n",
    "os.environ['JAVA_HOME'] = '/usr/lib/jvm/java-8-openjdk-amd64'\n",
    "os.environ['PATH'] = os.environ['JAVA_HOME'] + '/bin:' + os.environ['PATH']\n",
    "\n",
    "!java -version\n"
   ]
  }
 ],
 "metadata": {
  "kernelspec": {
   "display_name": "Python 3",
   "language": "python",
   "name": "python3"
  },
  "language_info": {
   "codemirror_mode": {
    "name": "ipython",
    "version": 3
   },
   "file_extension": ".py",
   "mimetype": "text/x-python",
   "name": "python",
   "nbconvert_exporter": "python",
   "pygments_lexer": "ipython3",
   "version": "3.7.0"
  }
 },
 "nbformat": 4,
 "nbformat_minor": 2
}
