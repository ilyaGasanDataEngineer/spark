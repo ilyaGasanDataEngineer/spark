{
 "cells": [
  {
   "cell_type": "code",
   "execution_count": 1,
   "metadata": {},
   "outputs": [],
   "source": [
    "# основной модль выполнения запросов spark italist\n",
    "# 4 этапа запроса с помощью spark italist\n",
    "1) анализ когда вычисляются  отношения из абстрактного синтаксического дерева возвращаемого синтаксическим анализатором sql либо из обьекта df созданного api "
   ]
  },
  {
   "cell_type": "code",
   "execution_count": null,
   "metadata": {},
   "outputs": [],
   "source": [
    "логическая оптимизация типовые правила применяются к логическому плану свертак придекатное сжатие сокращение \n",
    "физическая оптимизация один или несколько физических планов формируются из логического с ипользованием физического оператора "
   ]
  },
  {
   "cell_type": "code",
   "execution_count": 4,
   "metadata": {},
   "outputs": [
    {
     "name": "stderr",
     "output_type": "stream",
     "text": [
      "/home/ilyagasan/anaconda3/lib/python3.7/site-packages/pyspark/context.py:317: FutureWarning: Python 3.7 support is deprecated in Spark 3.4.\n",
      "  warnings.warn(\"Python 3.7 support is deprecated in Spark 3.4.\", FutureWarning)\n"
     ]
    }
   ],
   "source": [
    "import pyspark\n",
    "\n",
    "from pyspark.sql import SparkSession\n",
    "\n",
    "spark = SparkSession.\\\n",
    "        builder.\\\n",
    "        appName('less_pysqprk_DF').\\\n",
    "        master('local').\\\n",
    "        config('spark.executor.memory', \"512m\").\\\n",
    "        config(\"spark.hadoop.fs.defaultFS\", \"hdfs://localhost:9000\").\\\n",
    "        config(\"spark.hadoop.fs.default.name\", \"hdfs://localhost:9000\").\\\n",
    "        getOrCreate()"
   ]
  },
  {
   "cell_type": "code",
   "execution_count": 2,
   "metadata": {},
   "outputs": [
    {
     "name": "stdout",
     "output_type": "stream",
     "text": [
      "openjdk version \"1.8.0_422\"\n",
      "OpenJDK Runtime Environment (build 1.8.0_422-8u422-b05-1~24.04-b05)\n",
      "OpenJDK 64-Bit Server VM (build 25.422-b05, mixed mode)\n"
     ]
    }
   ],
   "source": [
    "import os\n",
    "\n",
    "# Установите переменную окружения JAVA_HOME\n",
    "os.environ['JAVA_HOME'] = '/usr/lib/jvm/java-8-openjdk-amd64'\n",
    "os.environ['PATH'] = os.environ['JAVA_HOME'] + '/bin:' + os.environ['PATH']\n",
    "\n",
    "# Проверьте версию Java\n",
    "!java -version"
   ]
  },
  {
   "cell_type": "code",
   "execution_count": 6,
   "metadata": {},
   "outputs": [],
   "source": [
    "df = spark.read.csv('hdfs://localhost:9000/data/Sales_April_2019.csv', header=True, inferSchema=True)"
   ]
  },
  {
   "cell_type": "code",
   "execution_count": 15,
   "metadata": {},
   "outputs": [
    {
     "name": "stdout",
     "output_type": "stream",
     "text": [
      "+--------+--------------------+----------------+----------+--------------+--------------------+\n",
      "|Order ID|             Product|Quantity Ordered|Price Each|    Order Date|    Purchase Address|\n",
      "+--------+--------------------+----------------+----------+--------------+--------------------+\n",
      "|  176558|USB-C Charging Cable|               2|     11.95|04/19/19 08:46|917 1st St, Dalla...|\n",
      "|    null|                null|            null|      null|          null|                null|\n",
      "|  176559|Bose SoundSport H...|               1|     99.99|04/07/19 22:30|682 Chestnut St, ...|\n",
      "|  176560|        Google Phone|               1|     600.0|04/12/19 14:38|669 Spruce St, Lo...|\n",
      "|  176560|    Wired Headphones|               1|     11.99|04/12/19 14:38|669 Spruce St, Lo...|\n",
      "|  176561|    Wired Headphones|               1|     11.99|04/30/19 09:27|333 8th St, Los A...|\n",
      "|  176562|USB-C Charging Cable|               1|     11.95|04/29/19 13:03|381 Wilson St, Sa...|\n",
      "|  176563|Bose SoundSport H...|               1|     99.99|04/02/19 07:46|668 Center St, Se...|\n",
      "|  176564|USB-C Charging Cable|               1|     11.95|04/12/19 10:58|790 Ridge St, Atl...|\n",
      "|  176565|  Macbook Pro Laptop|               1|    1700.0|04/24/19 10:38|915 Willow St, Sa...|\n",
      "|  176566|    Wired Headphones|               1|     11.99|04/08/19 14:05|83 7th St, Boston...|\n",
      "|  176567|        Google Phone|               1|     600.0|04/18/19 17:18|444 7th St, Los A...|\n",
      "|  176568|Lightning Chargin...|               1|     14.95|04/15/19 12:18|438 Elm St, Seatt...|\n",
      "|  176569|27in 4K Gaming Mo...|               1|    389.99|04/16/19 19:23|657 Hill St, Dall...|\n",
      "|  176570|AA Batteries (4-p...|               1|      3.84|04/22/19 15:09|186 12th St, Dall...|\n",
      "|  176571|Lightning Chargin...|               1|     14.95|04/19/19 14:29|253 Johnson St, A...|\n",
      "|  176572|Apple Airpods Hea...|               1|     150.0|04/04/19 20:30|149 Dogwood St, N...|\n",
      "|  176573|USB-C Charging Cable|               1|     11.95|04/27/19 18:41|214 Chestnut St, ...|\n",
      "|  176574|        Google Phone|               1|     600.0|04/03/19 19:42|20 Hill St, Los A...|\n",
      "|  176574|USB-C Charging Cable|               1|     11.95|04/03/19 19:42|20 Hill St, Los A...|\n",
      "+--------+--------------------+----------------+----------+--------------+--------------------+\n",
      "only showing top 20 rows\n",
      "\n"
     ]
    }
   ],
   "source": [
    "df.show()"
   ]
  },
  {
   "cell_type": "code",
   "execution_count": 8,
   "metadata": {},
   "outputs": [
    {
     "name": "stdout",
     "output_type": "stream",
     "text": [
      "== Parsed Logical Plan ==\n",
      "Relation [Order ID#17,Product#18,Quantity Ordered#19,Price Each#20,Order Date#21,Purchase Address#22] csv\n",
      "\n",
      "== Analyzed Logical Plan ==\n",
      "Order ID: int, Product: string, Quantity Ordered: int, Price Each: double, Order Date: string, Purchase Address: string\n",
      "Relation [Order ID#17,Product#18,Quantity Ordered#19,Price Each#20,Order Date#21,Purchase Address#22] csv\n",
      "\n",
      "== Optimized Logical Plan ==\n",
      "Relation [Order ID#17,Product#18,Quantity Ordered#19,Price Each#20,Order Date#21,Purchase Address#22] csv\n",
      "\n",
      "== Physical Plan ==\n",
      "FileScan csv [Order ID#17,Product#18,Quantity Ordered#19,Price Each#20,Order Date#21,Purchase Address#22] Batched: false, DataFilters: [], Format: CSV, Location: InMemoryFileIndex(1 paths)[hdfs://localhost:9000/data/Sales_April_2019.csv], PartitionFilters: [], PushedFilters: [], ReadSchema: struct<Order ID:int,Product:string,Quantity Ordered:int,Price Each:double,Order Date:string,Purch...\n",
      "\n"
     ]
    }
   ],
   "source": [
    "df.explain(True)"
   ]
  },
  {
   "cell_type": "code",
   "execution_count": 26,
   "metadata": {},
   "outputs": [
    {
     "name": "stdout",
     "output_type": "stream",
     "text": [
      "== Physical Plan ==\n",
      "*(1) Project [Order ID#17, Product#18, coalesce(Quantity Ordered#19, 20) AS Quantity Ordered#98, Price Each#20, Order Date#21, Purchase Address#22]\n",
      "+- FileScan csv [Order ID#17,Product#18,Quantity Ordered#19,Price Each#20,Order Date#21,Purchase Address#22] Batched: false, DataFilters: [], Format: CSV, Location: InMemoryFileIndex(1 paths)[hdfs://localhost:9000/data/Sales_April_2019.csv], PartitionFilters: [], PushedFilters: [], ReadSchema: struct<Order ID:int,Product:string,Quantity Ordered:int,Price Each:double,Order Date:string,Purch...\n",
      "\n",
      "\n"
     ]
    }
   ],
   "source": [
    "df.explain()\n"
   ]
  },
  {
   "cell_type": "code",
   "execution_count": 11,
   "metadata": {},
   "outputs": [],
   "source": []
  },
  {
   "cell_type": "code",
   "execution_count": 13,
   "metadata": {},
   "outputs": [
    {
     "name": "stdout",
     "output_type": "stream",
     "text": [
      "== Physical Plan ==\n",
      "*(1) Filter (isnotnull(Price Each#20) AND (Price Each#20 > 20.0))\n",
      "+- FileScan csv [Order ID#17,Product#18,Quantity Ordered#19,Price Each#20,Order Date#21,Purchase Address#22] Batched: false, DataFilters: [isnotnull(Price Each#20), (Price Each#20 > 20.0)], Format: CSV, Location: InMemoryFileIndex(1 paths)[hdfs://localhost:9000/data/Sales_April_2019.csv], PartitionFilters: [], PushedFilters: [IsNotNull(Price Each), GreaterThan(Price Each,20.0)], ReadSchema: struct<Order ID:int,Product:string,Quantity Ordered:int,Price Each:double,Order Date:string,Purch...\n",
      "\n",
      "\n"
     ]
    }
   ],
   "source": [
    "from pyspark.sql.functions import col\n",
    "df.filter(col('Price Each') > 20).explain()"
   ]
  },
  {
   "cell_type": "code",
   "execution_count": 14,
   "metadata": {},
   "outputs": [
    {
     "name": "stdout",
     "output_type": "stream",
     "text": [
      "root\n",
      " |-- Order ID: integer (nullable = true)\n",
      " |-- Product: string (nullable = true)\n",
      " |-- Quantity Ordered: integer (nullable = true)\n",
      " |-- Price Each: double (nullable = true)\n",
      " |-- Order Date: string (nullable = true)\n",
      " |-- Purchase Address: string (nullable = true)\n",
      "\n"
     ]
    }
   ],
   "source": [
    "df.printSchema()"
   ]
  },
  {
   "cell_type": "code",
   "execution_count": 24,
   "metadata": {},
   "outputs": [],
   "source": [
    "from pyspark.sql.functions import coalesce, lit\n",
    "df = df.withColumn('Quantity Ordered', coalesce(col('Quantity Ordered'), lit(20)))"
   ]
  },
  {
   "cell_type": "code",
   "execution_count": 25,
   "metadata": {},
   "outputs": [
    {
     "name": "stdout",
     "output_type": "stream",
     "text": [
      "+--------+--------------------+----------------+----------+--------------+--------------------+\n",
      "|Order ID|             Product|Quantity Ordered|Price Each|    Order Date|    Purchase Address|\n",
      "+--------+--------------------+----------------+----------+--------------+--------------------+\n",
      "|  176558|USB-C Charging Cable|               2|     11.95|04/19/19 08:46|917 1st St, Dalla...|\n",
      "|    null|                null|              20|      null|          null|                null|\n",
      "|  176559|Bose SoundSport H...|               1|     99.99|04/07/19 22:30|682 Chestnut St, ...|\n",
      "|  176560|        Google Phone|               1|     600.0|04/12/19 14:38|669 Spruce St, Lo...|\n",
      "|  176560|    Wired Headphones|               1|     11.99|04/12/19 14:38|669 Spruce St, Lo...|\n",
      "|  176561|    Wired Headphones|               1|     11.99|04/30/19 09:27|333 8th St, Los A...|\n",
      "|  176562|USB-C Charging Cable|               1|     11.95|04/29/19 13:03|381 Wilson St, Sa...|\n",
      "|  176563|Bose SoundSport H...|               1|     99.99|04/02/19 07:46|668 Center St, Se...|\n",
      "|  176564|USB-C Charging Cable|               1|     11.95|04/12/19 10:58|790 Ridge St, Atl...|\n",
      "|  176565|  Macbook Pro Laptop|               1|    1700.0|04/24/19 10:38|915 Willow St, Sa...|\n",
      "|  176566|    Wired Headphones|               1|     11.99|04/08/19 14:05|83 7th St, Boston...|\n",
      "|  176567|        Google Phone|               1|     600.0|04/18/19 17:18|444 7th St, Los A...|\n",
      "|  176568|Lightning Chargin...|               1|     14.95|04/15/19 12:18|438 Elm St, Seatt...|\n",
      "|  176569|27in 4K Gaming Mo...|               1|    389.99|04/16/19 19:23|657 Hill St, Dall...|\n",
      "|  176570|AA Batteries (4-p...|               1|      3.84|04/22/19 15:09|186 12th St, Dall...|\n",
      "|  176571|Lightning Chargin...|               1|     14.95|04/19/19 14:29|253 Johnson St, A...|\n",
      "|  176572|Apple Airpods Hea...|               1|     150.0|04/04/19 20:30|149 Dogwood St, N...|\n",
      "|  176573|USB-C Charging Cable|               1|     11.95|04/27/19 18:41|214 Chestnut St, ...|\n",
      "|  176574|        Google Phone|               1|     600.0|04/03/19 19:42|20 Hill St, Los A...|\n",
      "|  176574|USB-C Charging Cable|               1|     11.95|04/03/19 19:42|20 Hill St, Los A...|\n",
      "+--------+--------------------+----------------+----------+--------------+--------------------+\n",
      "only showing top 20 rows\n",
      "\n"
     ]
    }
   ],
   "source": [
    "df.show()"
   ]
  },
  {
   "cell_type": "code",
   "execution_count": 29,
   "metadata": {},
   "outputs": [
    {
     "name": "stdout",
     "output_type": "stream",
     "text": [
      "+--------+-------+----------------+----------+----------+----------------+\n",
      "|Order ID|Product|Quantity Ordered|Price Each|Order Date|Purchase Address|\n",
      "+--------+-------+----------------+----------+----------+----------------+\n",
      "|    null|   null|              20|      null|      null|            null|\n",
      "|    null|Product|              20|      null|Order Date|Purchase Address|\n",
      "+--------+-------+----------------+----------+----------+----------------+\n",
      "\n"
     ]
    }
   ],
   "source": [
    "df.filter(col('Quantity Ordered') == 20).show()"
   ]
  },
  {
   "cell_type": "code",
   "execution_count": 27,
   "metadata": {},
   "outputs": [],
   "source": [
    "df = df.drop_duplicates()"
   ]
  },
  {
   "cell_type": "code",
   "execution_count": 30,
   "metadata": {},
   "outputs": [],
   "source": [
    "# запись в кеш "
   ]
  },
  {
   "cell_type": "code",
   "execution_count": 31,
   "metadata": {},
   "outputs": [],
   "source": [
    "df = df.cache()"
   ]
  },
  {
   "cell_type": "code",
   "execution_count": 32,
   "metadata": {},
   "outputs": [
    {
     "name": "stdout",
     "output_type": "stream",
     "text": [
      "+--------+--------------------+----------------+----------+--------------+--------------------+\n",
      "|Order ID|             Product|Quantity Ordered|Price Each|    Order Date|    Purchase Address|\n",
      "+--------+--------------------+----------------+----------+--------------+--------------------+\n",
      "|  176675|AAA Batteries (4-...|               1|      2.99|04/02/19 09:02|933 Meadow St, Se...|\n",
      "|  176725|AA Batteries (4-p...|               2|      3.84|04/15/19 14:33|630 14th St, San ...|\n",
      "|  176925|Lightning Chargin...|               1|     14.95|04/18/19 15:31|920 Wilson St, Ne...|\n",
      "|  176991|Bose SoundSport H...|               1|     99.99|04/15/19 01:49|338 2nd St, San F...|\n",
      "|  177141|AAA Batteries (4-...|               1|      2.99|04/20/19 16:12|559 4th St, San F...|\n",
      "|  177177|AA Batteries (4-p...|               1|      3.84|04/08/19 12:10|182 12th St, San ...|\n",
      "|  177221|34in Ultrawide Mo...|               1|    379.99|04/12/19 20:33|5 Hickory St, San...|\n",
      "|  177239|              iPhone|               1|     700.0|04/13/19 12:17|336 Maple St, San...|\n",
      "|  177473|  Macbook Pro Laptop|               1|    1700.0|04/02/19 18:24|844 12th St, New ...|\n",
      "|  177727|AA Batteries (4-p...|               1|      3.84|04/03/19 20:33|239 Elm St, San F...|\n",
      "|  178057|AA Batteries (4-p...|               1|      3.84|04/18/19 16:22|982 Hickory St, A...|\n",
      "|  178140|Bose SoundSport H...|               1|     99.99|04/09/19 16:30|930 West St, New ...|\n",
      "|  178453|AA Batteries (4-p...|               1|      3.84|04/08/19 15:25|519 Cherry St, Se...|\n",
      "|  178912|    Wired Headphones|               1|     11.99|04/03/19 23:29|913 South St, Sea...|\n",
      "|  179339|AAA Batteries (4-...|               1|      2.99|04/16/19 16:04|841 South St, San...|\n",
      "|  179516|AAA Batteries (4-...|               1|      2.99|04/11/19 07:35|997 7th St, San F...|\n",
      "|  179923|34in Ultrawide Mo...|               1|    379.99|04/03/19 19:16|718 Highland St, ...|\n",
      "|  180019|Bose SoundSport H...|               1|     99.99|04/30/19 14:26|973 West St, Seat...|\n",
      "|  180142|AAA Batteries (4-...|               1|      2.99|04/21/19 19:50|913 8th St, Seatt...|\n",
      "|  180440|    Wired Headphones|               1|     11.99|04/06/19 10:29|647 1st St, New Y...|\n",
      "+--------+--------------------+----------------+----------+--------------+--------------------+\n",
      "only showing top 20 rows\n",
      "\n"
     ]
    }
   ],
   "source": [
    "df.show()"
   ]
  },
  {
   "cell_type": "code",
   "execution_count": 33,
   "metadata": {},
   "outputs": [
    {
     "name": "stdout",
     "output_type": "stream",
     "text": [
      "== Physical Plan ==\n",
      "InMemoryTableScan [Order ID#17, Product#18, Quantity Ordered#98, Price Each#20, Order Date#21, Purchase Address#22]\n",
      "   +- InMemoryRelation [Order ID#17, Product#18, Quantity Ordered#98, Price Each#20, Order Date#21, Purchase Address#22], StorageLevel(disk, memory, deserialized, 1 replicas)\n",
      "         +- *(2) HashAggregate(keys=[Order ID#17, Price Each#20, Quantity Ordered#98, Product#18, Order Date#21, Purchase Address#22], functions=[])\n",
      "            +- Exchange hashpartitioning(Order ID#17, Price Each#20, Quantity Ordered#98, Product#18, Order Date#21, Purchase Address#22, 200), ENSURE_REQUIREMENTS, [plan_id=152]\n",
      "               +- *(1) HashAggregate(keys=[Order ID#17, knownfloatingpointnormalized(normalizenanandzero(Price Each#20)) AS Price Each#20, Quantity Ordered#98, Product#18, Order Date#21, Purchase Address#22], functions=[])\n",
      "                  +- *(1) Project [Order ID#17, Product#18, coalesce(Quantity Ordered#19, 20) AS Quantity Ordered#98, Price Each#20, Order Date#21, Purchase Address#22]\n",
      "                     +- FileScan csv [Order ID#17,Product#18,Quantity Ordered#19,Price Each#20,Order Date#21,Purchase Address#22] Batched: false, DataFilters: [], Format: CSV, Location: InMemoryFileIndex(1 paths)[hdfs://localhost:9000/data/Sales_April_2019.csv], PartitionFilters: [], PushedFilters: [], ReadSchema: struct<Order ID:int,Product:string,Quantity Ordered:int,Price Each:double,Order Date:string,Purch...\n",
      "\n",
      "\n"
     ]
    }
   ],
   "source": [
    "df.explain()"
   ]
  },
  {
   "cell_type": "code",
   "execution_count": 34,
   "metadata": {},
   "outputs": [
    {
     "data": {
      "text/html": [
       "\n",
       "            <div>\n",
       "                <p><b>SparkSession - in-memory</b></p>\n",
       "                \n",
       "        <div>\n",
       "            <p><b>SparkContext</b></p>\n",
       "\n",
       "            <p><a href=\"http://192.168.0.168:4043\">Spark UI</a></p>\n",
       "\n",
       "            <dl>\n",
       "              <dt>Version</dt>\n",
       "                <dd><code>v3.4.3</code></dd>\n",
       "              <dt>Master</dt>\n",
       "                <dd><code>local</code></dd>\n",
       "              <dt>AppName</dt>\n",
       "                <dd><code>less_pysqprk_DF</code></dd>\n",
       "            </dl>\n",
       "        </div>\n",
       "        \n",
       "            </div>\n",
       "        "
      ],
      "text/plain": [
       "<pyspark.sql.session.SparkSession at 0x7738b93b1c18>"
      ]
     },
     "execution_count": 34,
     "metadata": {},
     "output_type": "execute_result"
    }
   ],
   "source": [
    "spark"
   ]
  },
  {
   "cell_type": "code",
   "execution_count": 35,
   "metadata": {},
   "outputs": [
    {
     "data": {
      "text/plain": [
       "DataFrame[Order ID: int, Product: string, Quantity Ordered: int, Price Each: double, Order Date: string, Purchase Address: string]"
      ]
     },
     "execution_count": 35,
     "metadata": {},
     "output_type": "execute_result"
    }
   ],
   "source": [
    "df.unpersist()"
   ]
  },
  {
   "cell_type": "code",
   "execution_count": null,
   "metadata": {},
   "outputs": [],
   "source": [
    "broadcast всю таблицу на кждый воркер"
   ]
  },
  {
   "cell_type": "code",
   "execution_count": 37,
   "metadata": {},
   "outputs": [],
   "source": [
    "spark.stop()"
   ]
  }
 ],
 "metadata": {
  "kernelspec": {
   "display_name": "Python 3",
   "language": "python",
   "name": "python3"
  },
  "language_info": {
   "codemirror_mode": {
    "name": "ipython",
    "version": 3
   },
   "file_extension": ".py",
   "mimetype": "text/x-python",
   "name": "python",
   "nbconvert_exporter": "python",
   "pygments_lexer": "ipython3",
   "version": "3.7.0"
  }
 },
 "nbformat": 4,
 "nbformat_minor": 2
}
