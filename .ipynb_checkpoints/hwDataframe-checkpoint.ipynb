{
 "cells": [
  {
   "cell_type": "code",
   "execution_count": 1,
   "metadata": {},
   "outputs": [
    {
     "name": "stdout",
     "output_type": "stream",
     "text": [
      "openjdk version \"1.8.0_422\"\n",
      "OpenJDK Runtime Environment (build 1.8.0_422-8u422-b05-1~24.04-b05)\n",
      "OpenJDK 64-Bit Server VM (build 25.422-b05, mixed mode)\n"
     ]
    }
   ],
   "source": [
    "import os\n",
    "\n",
    "# Установите переменную окружения JAVA_HOME\n",
    "os.environ['JAVA_HOME'] = '/usr/lib/jvm/java-8-openjdk-amd64'\n",
    "os.environ['PATH'] = os.environ['JAVA_HOME'] + '/bin:' + os.environ['PATH']\n",
    "\n",
    "# Проверьте версию Java\n",
    "!java -version"
   ]
  },
  {
   "cell_type": "code",
   "execution_count": 76,
   "metadata": {},
   "outputs": [
    {
     "name": "stderr",
     "output_type": "stream",
     "text": [
      "/home/ilyagasan/anaconda3/lib/python3.7/site-packages/pyspark/context.py:317: FutureWarning: Python 3.7 support is deprecated in Spark 3.4.\n",
      "  warnings.warn(\"Python 3.7 support is deprecated in Spark 3.4.\", FutureWarning)\n"
     ]
    }
   ],
   "source": [
    "import pyspark\n",
    "\n",
    "from pyspark.sql import SparkSession\n",
    "\n",
    "spark = SparkSession.builder \\\n",
    "        .appName('less_pysqprk_DF') \\\n",
    "        .master('local') \\\n",
    "        .config('spark.executor.memory', \"512m\") \\\n",
    "        .config(\"spark.executor.cores\", \"4\") \\\n",
    "        .config(\"spark.executor.memory\", \"8g\") \\\n",
    "        .config(\"spark.sql.shuffle.partitions\", \"12\") \\\n",
    "        .config(\"spark.default.parallelism\", \"12\") \\\n",
    "        .config(\"spark.hadoop.fs.defaultFS\", \"hdfs://localhost:9000\") \\\n",
    "        .config(\"spark.hadoop.fs.default.name\", \"hdfs://localhost:9000\") \\\n",
    "        .getOrCreate()\n"
   ]
  },
  {
   "cell_type": "code",
   "execution_count": 77,
   "metadata": {},
   "outputs": [
    {
     "data": {
      "text/html": [
       "\n",
       "            <div>\n",
       "                <p><b>SparkSession - in-memory</b></p>\n",
       "                \n",
       "        <div>\n",
       "            <p><b>SparkContext</b></p>\n",
       "\n",
       "            <p><a href=\"http://192.168.0.168:4040\">Spark UI</a></p>\n",
       "\n",
       "            <dl>\n",
       "              <dt>Version</dt>\n",
       "                <dd><code>v3.4.3</code></dd>\n",
       "              <dt>Master</dt>\n",
       "                <dd><code>local</code></dd>\n",
       "              <dt>AppName</dt>\n",
       "                <dd><code>less_pysqprk_DF</code></dd>\n",
       "            </dl>\n",
       "        </div>\n",
       "        \n",
       "            </div>\n",
       "        "
      ],
      "text/plain": [
       "<pyspark.sql.session.SparkSession at 0x7da320456fd0>"
      ]
     },
     "execution_count": 77,
     "metadata": {},
     "output_type": "execute_result"
    }
   ],
   "source": [
    "spark"
   ]
  },
  {
   "cell_type": "code",
   "execution_count": 78,
   "metadata": {},
   "outputs": [],
   "source": [
    "files = [\n",
    "    'Sales_April_2019.csv',\n",
    "    'Sales_August_2019.csv',\n",
    "    'Sales_December_2019.csv',\n",
    "    'Sales_February_2019.csv',\n",
    "    'Sales_January_2019.csv',\n",
    "    'Sales_July_2019.csv',\n",
    "    'Sales_June_2019.csv',\n",
    "    'Sales_March_2019.csv',\n",
    "    'Sales_May_2019.csv',\n",
    "    'Sales_November_2019.csv',\n",
    "    'Sales_October_2019.csv',\n",
    "    'Sales_September_2019.csv'\n",
    "]\n"
   ]
  },
  {
   "cell_type": "code",
   "execution_count": 79,
   "metadata": {},
   "outputs": [],
   "source": [
    "df = spark.read.csv(f'hdfs://localhost:9000/data/{files[0]}', header=True, inferSchema=True)\n"
   ]
  },
  {
   "cell_type": "code",
   "execution_count": 80,
   "metadata": {},
   "outputs": [
    {
     "data": {
      "text/plain": [
       "18383"
      ]
     },
     "execution_count": 80,
     "metadata": {},
     "output_type": "execute_result"
    }
   ],
   "source": [
    "df.count()"
   ]
  },
  {
   "cell_type": "code",
   "execution_count": 81,
   "metadata": {},
   "outputs": [
    {
     "name": "stdout",
     "output_type": "stream",
     "text": [
      "+--------+--------------------+----------------+----------+--------------+--------------------+\n",
      "|Order ID|             Product|Quantity Ordered|Price Each|    Order Date|    Purchase Address|\n",
      "+--------+--------------------+----------------+----------+--------------+--------------------+\n",
      "|  176558|USB-C Charging Cable|               2|     11.95|04/19/19 08:46|917 1st St, Dalla...|\n",
      "|    null|                null|            null|      null|          null|                null|\n",
      "|  176559|Bose SoundSport H...|               1|     99.99|04/07/19 22:30|682 Chestnut St, ...|\n",
      "|  176560|        Google Phone|               1|     600.0|04/12/19 14:38|669 Spruce St, Lo...|\n",
      "|  176560|    Wired Headphones|               1|     11.99|04/12/19 14:38|669 Spruce St, Lo...|\n",
      "|  176561|    Wired Headphones|               1|     11.99|04/30/19 09:27|333 8th St, Los A...|\n",
      "|  176562|USB-C Charging Cable|               1|     11.95|04/29/19 13:03|381 Wilson St, Sa...|\n",
      "|  176563|Bose SoundSport H...|               1|     99.99|04/02/19 07:46|668 Center St, Se...|\n",
      "|  176564|USB-C Charging Cable|               1|     11.95|04/12/19 10:58|790 Ridge St, Atl...|\n",
      "|  176565|  Macbook Pro Laptop|               1|    1700.0|04/24/19 10:38|915 Willow St, Sa...|\n",
      "|  176566|    Wired Headphones|               1|     11.99|04/08/19 14:05|83 7th St, Boston...|\n",
      "|  176567|        Google Phone|               1|     600.0|04/18/19 17:18|444 7th St, Los A...|\n",
      "|  176568|Lightning Chargin...|               1|     14.95|04/15/19 12:18|438 Elm St, Seatt...|\n",
      "|  176569|27in 4K Gaming Mo...|               1|    389.99|04/16/19 19:23|657 Hill St, Dall...|\n",
      "|  176570|AA Batteries (4-p...|               1|      3.84|04/22/19 15:09|186 12th St, Dall...|\n",
      "|  176571|Lightning Chargin...|               1|     14.95|04/19/19 14:29|253 Johnson St, A...|\n",
      "|  176572|Apple Airpods Hea...|               1|     150.0|04/04/19 20:30|149 Dogwood St, N...|\n",
      "|  176573|USB-C Charging Cable|               1|     11.95|04/27/19 18:41|214 Chestnut St, ...|\n",
      "|  176574|        Google Phone|               1|     600.0|04/03/19 19:42|20 Hill St, Los A...|\n",
      "|  176574|USB-C Charging Cable|               1|     11.95|04/03/19 19:42|20 Hill St, Los A...|\n",
      "+--------+--------------------+----------------+----------+--------------+--------------------+\n",
      "only showing top 20 rows\n",
      "\n"
     ]
    }
   ],
   "source": [
    "df.show()"
   ]
  },
  {
   "cell_type": "code",
   "execution_count": 82,
   "metadata": {},
   "outputs": [],
   "source": [
    "for name in range(1, len(files)-1):\n",
    "    df2 = spark.read.csv(f'hdfs://localhost:9000/data/{files[name+1]}', header=True, inferSchema=True)\n",
    "    df = df.union(df2)\n",
    "    df.count()    "
   ]
  },
  {
   "cell_type": "code",
   "execution_count": 83,
   "metadata": {},
   "outputs": [
    {
     "data": {
      "text/plain": [
       "174839"
      ]
     },
     "execution_count": 83,
     "metadata": {},
     "output_type": "execute_result"
    }
   ],
   "source": [
    "\n",
    "df.count()    "
   ]
  },
  {
   "cell_type": "code",
   "execution_count": 84,
   "metadata": {},
   "outputs": [
    {
     "name": "stdout",
     "output_type": "stream",
     "text": [
      "root\n",
      " |-- Order ID: integer (nullable = true)\n",
      " |-- Product: string (nullable = true)\n",
      " |-- Quantity Ordered: integer (nullable = true)\n",
      " |-- Price Each: double (nullable = true)\n",
      " |-- Order Date: string (nullable = true)\n",
      " |-- Purchase Address: string (nullable = true)\n",
      "\n"
     ]
    }
   ],
   "source": [
    "df.printSchema()"
   ]
  },
  {
   "cell_type": "code",
   "execution_count": 85,
   "metadata": {},
   "outputs": [],
   "source": [
    "from pyspark.sql.functions import col, sum as _sum"
   ]
  },
  {
   "cell_type": "code",
   "execution_count": 86,
   "metadata": {},
   "outputs": [
    {
     "name": "stdout",
     "output_type": "stream",
     "text": [
      "+--------------------+------------+\n",
      "|             Product|Quantity_sum|\n",
      "+--------------------+------------+\n",
      "|AAA Batteries (4-...|       28998|\n",
      "|AA Batteries (4-p...|       25809|\n",
      "|USB-C Charging Cable|       22513|\n",
      "|Lightning Chargin...|       21776|\n",
      "|    Wired Headphones|       19267|\n",
      "|Apple Airpods Hea...|       14651|\n",
      "|Bose SoundSport H...|       12577|\n",
      "|    27in FHD Monitor|        7058|\n",
      "|              iPhone|        6411|\n",
      "|34in Ultrawide Mo...|        5818|\n",
      "+--------------------+------------+\n",
      "\n"
     ]
    }
   ],
   "source": [
    "df.groupby('Product')\\\n",
    "    .agg(_sum(col('Quantity Ordered'))\\\n",
    "    .alias('Quantity_sum'))\\\n",
    "    .sort(col('Quantity_sum')\\\n",
    "    .desc())\\\n",
    "    .limit(10)\\\n",
    "    .show()\n",
    "\n",
    "#df.filter(col('Product') == 'USB-C Charging Cable').show()"
   ]
  },
  {
   "cell_type": "code",
   "execution_count": null,
   "metadata": {},
   "outputs": [],
   "source": []
  },
  {
   "cell_type": "code",
   "execution_count": null,
   "metadata": {},
   "outputs": [],
   "source": []
  },
  {
   "cell_type": "code",
   "execution_count": 87,
   "metadata": {},
   "outputs": [
    {
     "name": "stdout",
     "output_type": "stream",
     "text": [
      "4\n"
     ]
    }
   ],
   "source": [
    "df_replicated = df.repartition(col('Product'))\n",
    "print(df_replicated.rdd.getNumPartitions())\n"
   ]
  },
  {
   "cell_type": "code",
   "execution_count": 93,
   "metadata": {},
   "outputs": [
    {
     "name": "stdout",
     "output_type": "stream",
     "text": [
      "+--------------+\n",
      "|total_quantity|\n",
      "+--------------+\n",
      "|         35917|\n",
      "|         35214|\n",
      "|         64711|\n",
      "|         59795|\n",
      "+--------------+\n",
      "\n"
     ]
    }
   ],
   "source": [
    "from pyspark.sql import Row\n",
    "\n",
    "def aggregate_partition(partition):\n",
    "    total_quantity = 0\n",
    "    for row in partition:\n",
    "        if row[\"Quantity Ordered\"] is not None:\n",
    "            total_quantity += row[\"Quantity Ordered\"]\n",
    "    yield Row(total_quantity=total_quantity)\n",
    "\n",
    "aggregated_df = df_replicated.rdd.mapPartitions(aggregate_partition).toDF()\n",
    "\n",
    "aggregated_df.show()\n"
   ]
  },
  {
   "cell_type": "code",
   "execution_count": 97,
   "metadata": {},
   "outputs": [
    {
     "name": "stdout",
     "output_type": "stream",
     "text": [
      "3\n"
     ]
    }
   ],
   "source": [
    "df_replicated_less = df_replicated.coalesce(3)\n",
    "print(df_replicated_less.rdd.getNumPartitions())\n"
   ]
  },
  {
   "cell_type": "code",
   "execution_count": 98,
   "metadata": {},
   "outputs": [],
   "source": [
    "df_replicated_less.write.format('csv').option(\"header\", True).save(\"hdfs://localhost:9000/sales/data_hw/\")"
   ]
  },
  {
   "cell_type": "code",
   "execution_count": 102,
   "metadata": {},
   "outputs": [
    {
     "name": "stdout",
     "output_type": "stream",
     "text": [
      "CPU times: user 2 µs, sys: 1e+03 ns, total: 3 µs\n",
      "Wall time: 6.91 µs\n"
     ]
    }
   ],
   "source": [
    "%time\n",
    "df_replicated_less.write.format(\"json\").save(\"hdfs://localhost:9000/sales/data_hw_json/\")\n"
   ]
  },
  {
   "cell_type": "code",
   "execution_count": 103,
   "metadata": {},
   "outputs": [
    {
     "name": "stdout",
     "output_type": "stream",
     "text": [
      "CPU times: user 3 µs, sys: 2 µs, total: 5 µs\n",
      "Wall time: 8.58 µs\n"
     ]
    }
   ],
   "source": [
    "%time\n",
    "df_replicated_less.write.format(\"parquet\").save(\"hdfs://localhost:9000/sales/data_hw_parquet/\")\n"
   ]
  },
  {
   "cell_type": "code",
   "execution_count": 111,
   "metadata": {},
   "outputs": [
    {
     "name": "stdout",
     "output_type": "stream",
     "text": [
      "+---------------------------------------+\n",
      "|Purchase Address                       |\n",
      "+---------------------------------------+\n",
      "|657 Hill St, Dallas, TX 75001          |\n",
      "|84 Jackson St, Boston, MA 02215        |\n",
      "|87 West St, Boston, MA 02215           |\n",
      "|15 Cherry St, San Francisco, CA 94016  |\n",
      "|85 North St, San Francisco, CA 94016   |\n",
      "|997 South St, Boston, MA 02215         |\n",
      "|92 11th St, Los Angeles, CA 90001      |\n",
      "|343 Johnson St, New York City, NY 10001|\n",
      "|209 14th St, New York City, NY 10001   |\n",
      "|613 12th St, Portland, OR 97035        |\n",
      "|504 Wilson St, Dallas, TX 75001        |\n",
      "|570 11th St, Atlanta, GA 30301         |\n",
      "|638 Park St, Seattle, WA 98101         |\n",
      "|825 Madison St, Seattle, WA 98101      |\n",
      "|205 4th St, Atlanta, GA 30301          |\n",
      "|976 Hickory St, Dallas, TX 75001       |\n",
      "|772 11th St, Atlanta, GA 30301         |\n",
      "|445 Jefferson St, Atlanta, GA 30301    |\n",
      "|125 North St, San Francisco, CA 94016  |\n",
      "|623 Lincoln St, Portland, OR 97035     |\n",
      "+---------------------------------------+\n",
      "only showing top 20 rows\n",
      "\n"
     ]
    }
   ],
   "source": [
    "df_replicated_less.select(\"Purchase Address\").show(truncate=False)"
   ]
  },
  {
   "cell_type": "code",
   "execution_count": 151,
   "metadata": {},
   "outputs": [],
   "source": [
    "from pyspark.sql.functions import udf \n",
    "from pyspark.sql.types import ArrayType, StringType, StructType, StructField"
   ]
  },
  {
   "cell_type": "code",
   "execution_count": 183,
   "metadata": {},
   "outputs": [
    {
     "data": {
      "text/plain": [
       "('657 Hill St', 'Dallas', 'TX', '75001')"
      ]
     },
     "execution_count": 183,
     "metadata": {},
     "output_type": "execute_result"
    }
   ],
   "source": [
    "def splter_addrres(address):\n",
    "    address_splited = address.split(',')\n",
    "    \n",
    "    address_splited[2], post = address_splited[2].split()[0], address_splited[2].split()[1]\n",
    "    address_splited.append(post)\n",
    "    \n",
    "    return (address_splited[0].strip(),address_splited[1].strip(),address_splited[2].strip(),address_splited[3].strip())\n",
    "    \n",
    "\n",
    "splter_addrres('657 Hill St, Dallas, TX 75001')"
   ]
  },
  {
   "cell_type": "code",
   "execution_count": 184,
   "metadata": {},
   "outputs": [],
   "source": [
    "my_udf = udf(splter_addrres, StructType([\n",
    "    StructField(\"Street address\", StringType()),\n",
    "    StructField(\"City\", StringType()),\n",
    "    StructField(\"State\", StringType()),\n",
    "    StructField(\"Postal Code\", StringType())\n",
    "]))"
   ]
  },
  {
   "cell_type": "code",
   "execution_count": 186,
   "metadata": {},
   "outputs": [],
   "source": [
    "df_replicated_less = df_replicated_less.withColumn('Street address', my_udf(col(\"Purchase Address\")).getItem(\"Street address\"))\\\n",
    "                    .withColumn('City', my_udf(col(\"Purchase Address\")).getItem(\"City\"))\\\n",
    "                    .withColumn('State', my_udf(col(\"Purchase Address\")).getItem(\"State\"))\\\n",
    "                    .withColumn('Postal Code', my_udf(col(\"Purchase Address\")).getItem(\"Postal Code\"))"
   ]
  },
  {
   "cell_type": "code",
   "execution_count": 187,
   "metadata": {},
   "outputs": [
    {
     "name": "stdout",
     "output_type": "stream",
     "text": [
      "+--------+--------------------+----------------+----------+--------------+--------------------+----------------+-------------+-----+-----------+\n",
      "|Order ID|             Product|Quantity Ordered|Price Each|    Order Date|    Purchase Address|  Street address|         City|State|Postal Code|\n",
      "+--------+--------------------+----------------+----------+--------------+--------------------+----------------+-------------+-----+-----------+\n",
      "|  176569|27in 4K Gaming Mo...|               1|    389.99|04/16/19 19:23|657 Hill St, Dall...|     657 Hill St|       Dallas|   TX|      75001|\n",
      "|  176581|              iPhone|               1|     700.0|04/09/19 21:38|84 Jackson St, Bo...|   84 Jackson St|       Boston|   MA|      02215|\n",
      "|  176600|27in 4K Gaming Mo...|               1|    389.99|04/30/19 15:54|87 West St, Bosto...|      87 West St|       Boston|   MA|      02215|\n",
      "|  176608|              iPhone|               1|     700.0|04/11/19 12:01|15 Cherry St, San...|    15 Cherry St|San Francisco|   CA|      94016|\n",
      "|  176635|     Vareebadd Phone|               1|     400.0|04/26/19 09:55|85 North St, San ...|     85 North St|San Francisco|   CA|      94016|\n",
      "|  176651|              iPhone|               1|     700.0|04/07/19 13:14|997 South St, Bos...|    997 South St|       Boston|   MA|      02215|\n",
      "|  176667|27in 4K Gaming Mo...|               1|    389.99|04/11/19 00:39|92 11th St, Los A...|      92 11th St|  Los Angeles|   CA|      90001|\n",
      "|  176696|              iPhone|               1|     700.0|04/07/19 12:41|343 Johnson St, N...|  343 Johnson St|New York City|   NY|      10001|\n",
      "|  176722|27in 4K Gaming Mo...|               1|    389.99|04/01/19 10:57|209 14th St, New ...|     209 14th St|New York City|   NY|      10001|\n",
      "|  176723|27in 4K Gaming Mo...|               1|    389.99|04/19/19 21:31|613 12th St, Port...|     613 12th St|     Portland|   OR|      97035|\n",
      "|  176732|              iPhone|               1|     700.0|04/23/19 09:33|504 Wilson St, Da...|   504 Wilson St|       Dallas|   TX|      75001|\n",
      "|  176743|27in 4K Gaming Mo...|               1|    389.99|04/01/19 09:17|570 11th St, Atla...|     570 11th St|      Atlanta|   GA|      30301|\n",
      "|  176746|27in 4K Gaming Mo...|               1|    389.99|04/08/19 19:04|638 Park St, Seat...|     638 Park St|      Seattle|   WA|      98101|\n",
      "|  176755|27in 4K Gaming Mo...|               1|    389.99|04/09/19 16:21|825 Madison St, S...|  825 Madison St|      Seattle|   WA|      98101|\n",
      "|  176767|27in 4K Gaming Mo...|               1|    389.99|04/09/19 14:18|205 4th St, Atlan...|      205 4th St|      Atlanta|   GA|      30301|\n",
      "|  176781|              iPhone|               1|     700.0|04/03/19 07:37|976 Hickory St, D...|  976 Hickory St|       Dallas|   TX|      75001|\n",
      "|  176792|27in 4K Gaming Mo...|               1|    389.99|04/30/19 19:29|772 11th St, Atla...|     772 11th St|      Atlanta|   GA|      30301|\n",
      "|  176798|              iPhone|               1|     700.0|04/06/19 10:31|445 Jefferson St,...|445 Jefferson St|      Atlanta|   GA|      30301|\n",
      "|  176801|     Vareebadd Phone|               1|     400.0|04/28/19 18:52|125 North St, San...|    125 North St|San Francisco|   CA|      94016|\n",
      "|  176816|27in 4K Gaming Mo...|               1|    389.99|04/19/19 20:14|623 Lincoln St, P...|  623 Lincoln St|     Portland|   OR|      97035|\n",
      "+--------+--------------------+----------------+----------+--------------+--------------------+----------------+-------------+-----+-----------+\n",
      "only showing top 20 rows\n",
      "\n"
     ]
    }
   ],
   "source": [
    "df_replicated_less.show()"
   ]
  },
  {
   "cell_type": "code",
   "execution_count": 188,
   "metadata": {},
   "outputs": [],
   "source": [
    "df_replicated_less = df_replicated_less.cache()"
   ]
  },
  {
   "cell_type": "code",
   "execution_count": 190,
   "metadata": {},
   "outputs": [],
   "source": [
    "df_replicated_less = df_replicated_less.withColumn('profit', col('Quantity Ordered') * col('Price Each'))"
   ]
  },
  {
   "cell_type": "code",
   "execution_count": 191,
   "metadata": {},
   "outputs": [
    {
     "name": "stdout",
     "output_type": "stream",
     "text": [
      "+--------+--------------------+----------------+----------+--------------+--------------------+----------------+-------------+-----+-----------+------+\n",
      "|Order ID|             Product|Quantity Ordered|Price Each|    Order Date|    Purchase Address|  Street address|         City|State|Postal Code|profit|\n",
      "+--------+--------------------+----------------+----------+--------------+--------------------+----------------+-------------+-----+-----------+------+\n",
      "|  176569|27in 4K Gaming Mo...|               1|    389.99|04/16/19 19:23|657 Hill St, Dall...|     657 Hill St|       Dallas|   TX|      75001|389.99|\n",
      "|  176581|              iPhone|               1|     700.0|04/09/19 21:38|84 Jackson St, Bo...|   84 Jackson St|       Boston|   MA|      02215| 700.0|\n",
      "|  176600|27in 4K Gaming Mo...|               1|    389.99|04/30/19 15:54|87 West St, Bosto...|      87 West St|       Boston|   MA|      02215|389.99|\n",
      "|  176608|              iPhone|               1|     700.0|04/11/19 12:01|15 Cherry St, San...|    15 Cherry St|San Francisco|   CA|      94016| 700.0|\n",
      "|  176635|     Vareebadd Phone|               1|     400.0|04/26/19 09:55|85 North St, San ...|     85 North St|San Francisco|   CA|      94016| 400.0|\n",
      "|  176651|              iPhone|               1|     700.0|04/07/19 13:14|997 South St, Bos...|    997 South St|       Boston|   MA|      02215| 700.0|\n",
      "|  176667|27in 4K Gaming Mo...|               1|    389.99|04/11/19 00:39|92 11th St, Los A...|      92 11th St|  Los Angeles|   CA|      90001|389.99|\n",
      "|  176696|              iPhone|               1|     700.0|04/07/19 12:41|343 Johnson St, N...|  343 Johnson St|New York City|   NY|      10001| 700.0|\n",
      "|  176722|27in 4K Gaming Mo...|               1|    389.99|04/01/19 10:57|209 14th St, New ...|     209 14th St|New York City|   NY|      10001|389.99|\n",
      "|  176723|27in 4K Gaming Mo...|               1|    389.99|04/19/19 21:31|613 12th St, Port...|     613 12th St|     Portland|   OR|      97035|389.99|\n",
      "|  176732|              iPhone|               1|     700.0|04/23/19 09:33|504 Wilson St, Da...|   504 Wilson St|       Dallas|   TX|      75001| 700.0|\n",
      "|  176743|27in 4K Gaming Mo...|               1|    389.99|04/01/19 09:17|570 11th St, Atla...|     570 11th St|      Atlanta|   GA|      30301|389.99|\n",
      "|  176746|27in 4K Gaming Mo...|               1|    389.99|04/08/19 19:04|638 Park St, Seat...|     638 Park St|      Seattle|   WA|      98101|389.99|\n",
      "|  176755|27in 4K Gaming Mo...|               1|    389.99|04/09/19 16:21|825 Madison St, S...|  825 Madison St|      Seattle|   WA|      98101|389.99|\n",
      "|  176767|27in 4K Gaming Mo...|               1|    389.99|04/09/19 14:18|205 4th St, Atlan...|      205 4th St|      Atlanta|   GA|      30301|389.99|\n",
      "|  176781|              iPhone|               1|     700.0|04/03/19 07:37|976 Hickory St, D...|  976 Hickory St|       Dallas|   TX|      75001| 700.0|\n",
      "|  176792|27in 4K Gaming Mo...|               1|    389.99|04/30/19 19:29|772 11th St, Atla...|     772 11th St|      Atlanta|   GA|      30301|389.99|\n",
      "|  176798|              iPhone|               1|     700.0|04/06/19 10:31|445 Jefferson St,...|445 Jefferson St|      Atlanta|   GA|      30301| 700.0|\n",
      "|  176801|     Vareebadd Phone|               1|     400.0|04/28/19 18:52|125 North St, San...|    125 North St|San Francisco|   CA|      94016| 400.0|\n",
      "|  176816|27in 4K Gaming Mo...|               1|    389.99|04/19/19 20:14|623 Lincoln St, P...|  623 Lincoln St|     Portland|   OR|      97035|389.99|\n",
      "+--------+--------------------+----------------+----------+--------------+--------------------+----------------+-------------+-----+-----------+------+\n",
      "only showing top 20 rows\n",
      "\n"
     ]
    }
   ],
   "source": [
    "df_replicated_less.show()"
   ]
  },
  {
   "cell_type": "code",
   "execution_count": 192,
   "metadata": {},
   "outputs": [],
   "source": [
    "spark.stop()"
   ]
  }
 ],
 "metadata": {
  "kernelspec": {
   "display_name": "Python 3",
   "language": "python",
   "name": "python3"
  },
  "language_info": {
   "codemirror_mode": {
    "name": "ipython",
    "version": 3
   },
   "file_extension": ".py",
   "mimetype": "text/x-python",
   "name": "python",
   "nbconvert_exporter": "python",
   "pygments_lexer": "ipython3",
   "version": "3.7.0"
  }
 },
 "nbformat": 4,
 "nbformat_minor": 2
}
